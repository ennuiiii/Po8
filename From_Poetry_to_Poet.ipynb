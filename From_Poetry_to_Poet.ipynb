{
  "nbformat": 4,
  "nbformat_minor": 0,
  "metadata": {
    "colab": {
      "name": "From Poetry to Poet.ipynb",
      "provenance": []
    },
    "kernelspec": {
      "name": "python3",
      "display_name": "Python 3"
    },
    "language_info": {
      "name": "python"
    }
  },
  "cells": [
    {
      "cell_type": "markdown",
      "metadata": {
        "id": "-vhoYoTe1By_"
      },
      "source": [
        "# From Poetry to Poet\n",
        "\n",
        "\n",
        "---\n",
        "\n",
        "> Kejing Huang, Qiubai Yu, Zi Yang\n",
        "\n"
      ]
    },
    {
      "cell_type": "markdown",
      "metadata": {
        "id": "4BU073wuzf1G"
      },
      "source": [
        "#1. Project Idea\n",
        "Poetry (derived from the Greek poiesis, \"making\") is a form of literature that uses aesthetic and often rhythmic qualities of language − such as phonaesthetics, sound symbolism, and metre − to evoke meanings in addition to, or in place of, a prosaic ostensible meaning. Poetry has a long and varied history, evolving differentially across the globe. It dates back at least to prehistoric times with hunting poetry in Africa, and to panegyric and elegiac court poetry of the empires of the Nile, Niger, and Volta River valleys. Some of the earliest written poetry in Africa occurs among the Pyramid Texts written during the 25th century BCE. The earliest surviving Western Asian epic poetry, the Epic of Gilgamesh, was written in Sumerian.\n",
        "\n",
        "Poetry is important because writing it lets us get out our feelings and thoughts on a subject while reading it encourages us to connect and find meaning in our experiences. Poetry can have a positive impact on social and emotional learning and it may offer people a new way of thinking about something. Every poet has a style. Part of the keys to becoming a well-known and respected poet is honing that style and creating something entirely unique to you and your life experience.\n",
        "\n",
        "As students that love reading and writing poetry, and have seen what neural networks have been able to do with text classification, we want to test the boundaries of such a network. Our goal through this Deep Learning project is to see if a Long short-term memory (LSTM) network model can find and reveal the right poet given a part of a poem. More specifically, we train a model that can identify who writes a piece of work. We hope that our model can identify each poet's writing style. Furthermore, given enough data, we expect our model to be trained on the poems of a poet, and be able to classify later inputs as the given poet.\n"
      ]
    },
    {
      "cell_type": "markdown",
      "metadata": {
        "id": "EGh3OHFm0aZs"
      },
      "source": [
        "#2. Tools used\n",
        "\n",
        "\n",
        "*   Python 3\n",
        "*   Numpy\n",
        "*   Keras\n",
        "*   Tensorflow\n",
        "*   Sklearn\n",
        "*   PoemHunter\n",
        "\n",
        "\n"
      ]
    },
    {
      "cell_type": "markdown",
      "metadata": {
        "id": "a8tZLq95zxte"
      },
      "source": [
        "# 3. Prepare the data\n",
        "\n",
        "For data generation, we used poems from Kaggle/Project Gutenberg (https://www.kaggle.com/nltkdata/gutenberg) and PoemHunter (https://www.poemhunter.com/), made all poems from the same poet into a text file, and uploaded all text files to the colab manually.  \n",
        "\n",
        "We selected 11 poets:  \n",
        "1. George Gordon Byron\n",
        "2. Khalil Gibran\n",
        "3. Johann Wolfgang von Goethe\n",
        "4. Thomas Hardy\n",
        "5. Seamus Heaney\n",
        "6. Homer\n",
        "7. Victor Hugo\n",
        "8. Alexander Sergeyevich Pushkin\n",
        "9. Percy Bysshe Shelley\n",
        "10. Rabindranath Tagore\n",
        "11. Voltaire\n",
        "\n",
        "![](https://drive.google.com/uc?export=view&id=1tsgGcK9wmysSTtu8i6hYRYFgXqlqMlb9)\n",
        "A screenshot of a text file containing poems written by George Gordon Byron is shown below:\n",
        "![](https://drive.google.com/uc?export=view&id=1ywfb462SVLwa_IfZgqtyrUWUH6uViRI2)"
      ]
    },
    {
      "cell_type": "markdown",
      "metadata": {
        "id": "8tfxQf58rXbp"
      },
      "source": [
        "#4. Preprocess the data\n",
        "For data preprocessing, firstly install Natural Language Toolkit (NLTK) to help analysis, preprocess, and understand the written text, followed by import necessary libraries and APIs such as tensorflow, numpy, keras, etc. Then for each poem, split paragraphs into sentences, remove punctuations and truncate the sentences. Finally convert words into numbers, create input data and labels, and generate training set (90% of the dataset) and testing set (10% of the dataset)."
      ]
    },
    {
      "cell_type": "code",
      "metadata": {
        "colab": {
          "base_uri": "https://localhost:8080/",
          "height": 131
        },
        "id": "ss_QCo5_fF4K",
        "outputId": "4a88c454-aaac-4c6c-fc70-2a53fda3ea3b"
      },
      "source": [
        "# Install Natural Language Toolkit (NLTK)\n",
        "pip install nltk"
      ],
      "execution_count": 31,
      "outputs": [
        {
          "output_type": "error",
          "ename": "SyntaxError",
          "evalue": "ignored",
          "traceback": [
            "\u001b[0;36m  File \u001b[0;32m\"<ipython-input-31-89590286b4e1>\"\u001b[0;36m, line \u001b[0;32m2\u001b[0m\n\u001b[0;31m    pip install nltk\u001b[0m\n\u001b[0m              ^\u001b[0m\n\u001b[0;31mSyntaxError\u001b[0m\u001b[0;31m:\u001b[0m invalid syntax\n"
          ]
        }
      ]
    },
    {
      "cell_type": "code",
      "metadata": {
        "id": "dvNq41_jxVt2"
      },
      "source": [
        "# Import Python, data and preprocessing libraries\n",
        "# NN libraries\n",
        "import tensorflow as tf\n",
        "import numpy as np\n",
        "import keras\n",
        "# reading txt files\n",
        "import os\n",
        "# preprocessing tools\n",
        "import string\n",
        "import nltk\n",
        "\n",
        "from sklearn.model_selection import train_test_split\n",
        "from nltk.tokenize import sent_tokenize"
      ],
      "execution_count": 30,
      "outputs": []
    },
    {
      "cell_type": "code",
      "metadata": {
        "colab": {
          "base_uri": "https://localhost:8080/"
        },
        "id": "pciuQ8N-k1fh",
        "outputId": "80fd0a78-2255-4954-8262-2758f7202073"
      },
      "source": [
        "# Mount drive so the model can interact with drive files in the file browser side panel or using command-line utilities\n",
        "from google.colab import drive\n",
        "drive.mount('/content/drive')"
      ],
      "execution_count": 24,
      "outputs": [
        {
          "output_type": "stream",
          "name": "stdout",
          "text": [
            "Drive already mounted at /content/drive; to attempt to forcibly remount, call drive.mount(\"/content/drive\", force_remount=True).\n"
          ]
        }
      ]
    },
    {
      "cell_type": "markdown",
      "metadata": {
        "id": "1EB-ARglrs_0"
      },
      "source": [
        "### 4.1 Split into sentences and tokenize into words\n",
        "\n"
      ]
    },
    {
      "cell_type": "code",
      "metadata": {
        "id": "7KNNW1mFke0q",
        "colab": {
          "base_uri": "https://localhost:8080/"
        },
        "outputId": "8a237a68-f0a8-4860-b067-1eef4ec8525f"
      },
      "source": [
        "nltk.download('punkt')\n",
        "\n",
        "vocab = set()\n",
        "poets = set()\n",
        "\n",
        "raw_X = []\n",
        "raw_Y = []\n",
        "DIR = '/content/drive/MyDrive/Po8/'\n",
        "\n",
        "for file_name in os.listdir(DIR):\n",
        "  poet = file_name.rpartition('-')[0]\n",
        "  poets.add(poet)\n",
        "  if file_name.endswith('.txt'):\n",
        "    fp = open(DIR + file_name, \"r\")\n",
        "    data = fp.read()\n",
        "\n",
        "    # split paragraphs into sentences\n",
        "    sentences = sent_tokenize(data)\n",
        "\n",
        "    words_list = []\n",
        "    for sentence in sentences:\n",
        "      # remove punctuations and split by whitespaces\n",
        "      clean_words = ''.join(' ' if c in string.punctuation else c for c in sentence)\n",
        "      words = clean_words.split()\n",
        "      vocab = vocab.union(set(words))\n",
        "\n",
        "      if len(words) >= 20:\n",
        "        # truncate the sentence\n",
        "        raw_X.append(words[:20])\n",
        "        raw_Y.append(poet)"
      ],
      "execution_count": null,
      "outputs": [
        {
          "output_type": "stream",
          "name": "stdout",
          "text": [
            "[nltk_data] Downloading package punkt to /root/nltk_data...\n",
            "[nltk_data]   Unzipping tokenizers/punkt.zip.\n"
          ]
        }
      ]
    },
    {
      "cell_type": "markdown",
      "metadata": {
        "id": "xK1ktHIfVFj4"
      },
      "source": [
        "After using the **nltk package** to parse sentences and truncating sentences into 20 words, a sample of the processed sentence is printed below:"
      ]
    },
    {
      "cell_type": "code",
      "metadata": {
        "colab": {
          "base_uri": "https://localhost:8080/"
        },
        "id": "HfYE0R6pU-b7",
        "outputId": "1aaf1d0d-6e98-4fcc-e19d-af4a562608b0"
      },
      "source": [
        "print(' '.join(raw_X[256]))"
      ],
      "execution_count": null,
      "outputs": [
        {
          "output_type": "stream",
          "name": "stdout",
          "text": [
            "The water in this pool keeps in its depth the memory of her swimming limbs and her wet feet had\n"
          ]
        }
      ]
    },
    {
      "cell_type": "markdown",
      "metadata": {
        "id": "q3sePqGejl9u"
      },
      "source": [
        "###4.2 Convert vocabs and poets to numbers"
      ]
    },
    {
      "cell_type": "code",
      "metadata": {
        "id": "FzOMR3xslEUU"
      },
      "source": [
        "word2id = {w: i for i, w in enumerate(list(vocab))}\n",
        "poet2id = {p: i for i, p in enumerate(list(poets))}"
      ],
      "execution_count": null,
      "outputs": []
    },
    {
      "cell_type": "markdown",
      "metadata": {
        "id": "G8XosWtRl0ZD"
      },
      "source": [
        "###4.3 Generate input data and labels"
      ]
    },
    {
      "cell_type": "code",
      "metadata": {
        "id": "Qb-zQfsEl9C6"
      },
      "source": [
        "assert(len(raw_X) == len(raw_Y))\n",
        "\n",
        "inputs = []\n",
        "labels = []\n",
        "\n",
        "NUM_POETS = 11\n",
        "\n",
        "for i in range(len(raw_X)):\n",
        "  words = raw_X[i]\n",
        "  input = []\n",
        "  for word in words:\n",
        "    input.append(word2id[word])\n",
        "  # convert the inputs into np arrays\n",
        "  inputs.append(np.array(input))\n",
        "  # convert the labels into one-hot vectors\n",
        "  one_h = np.zeros(NUM_POETS)\n",
        "  one_h[poet2id[raw_Y[i]]-1] = 1\n",
        "  labels.append(one_h)"
      ],
      "execution_count": 32,
      "outputs": []
    },
    {
      "cell_type": "markdown",
      "metadata": {
        "id": "PgMD7tFumhCp"
      },
      "source": [
        "###4.4 Split inputs and labels into training set and testing set"
      ]
    },
    {
      "cell_type": "code",
      "metadata": {
        "id": "SN8qarABmAEH"
      },
      "source": [
        "X_train, X_test, y_train, y_test = train_test_split(inputs, labels, test_size=0.10, random_state=40)\n",
        "\n",
        "X_train = np.asarray(X_train)\n",
        "X_test = np.asarray(X_test)\n",
        "y_train = np.asarray(y_train)\n",
        "y_test = np.asarray(y_test)"
      ],
      "execution_count": null,
      "outputs": []
    },
    {
      "cell_type": "markdown",
      "metadata": {
        "id": "BZMnkyW6nVAq"
      },
      "source": [
        "#5. Build and test the Model\n",
        "Build a Long Short-Term Memory (LSTM) neural network model with a softmax function appended to the final layer to convert the scores to a normalized probability distribution."
      ]
    },
    {
      "cell_type": "code",
      "metadata": {
        "id": "r6j3GN_0nX1V"
      },
      "source": [
        "# Build LSTM model with a softmax function appended to the final layer\n",
        "\n",
        "NUM_POETS = 11\n",
        "VOCAB_SIZE = len(vocab)\n",
        "EMBEDDING_SIZE = 100\n",
        "RNN_SIZE = 100\n",
        "\n",
        "model = keras.Sequential()\n",
        "model.add(keras.layers.Embedding(VOCAB_SIZE, EMBEDDING_SIZE, input_length=20))\n",
        "model.add(keras.layers.Dropout(0.1))\n",
        "model.add(keras.layers.LSTM(RNN_SIZE, dropout=0.1, recurrent_dropout=0.1))\n",
        "model.add(keras.layers.Dense(NUM_POETS, activation='softmax'))\n",
        "model.compile(loss='categorical_crossentropy', optimizer='adam', metrics=['accuracy'])"
      ],
      "execution_count": 38,
      "outputs": []
    },
    {
      "cell_type": "code",
      "metadata": {
        "id": "QHRigBW3s1Ca"
      },
      "source": [
        "# Train the model by fitting it to the training data\n",
        "epochs = 10\n",
        "batch_size = 64\n",
        "history = model.fit(X_train, y_train, epochs=epochs, batch_size=batch_size, validation_split=0.1, verbose=0)"
      ],
      "execution_count": 42,
      "outputs": []
    },
    {
      "cell_type": "code",
      "metadata": {
        "colab": {
          "base_uri": "https://localhost:8080/"
        },
        "id": "B-z_AqD9CwQE",
        "outputId": "c7936501-d4a9-4c5e-ba66-c6378307a76e"
      },
      "source": [
        "# Test the model and calculate the training and testing accuracies\n",
        "loss, accuracy = model.evaluate(X_train, y_train, verbose=False)\n",
        "print(\"Training Accuracy is {:.4f}\".format(accuracy))\n",
        "loss, accuracy = model.evaluate(X_test, y_test, verbose=False)\n",
        "print(\"Testing Accuracy is {:.4f}\".format(accuracy))"
      ],
      "execution_count": 40,
      "outputs": [
        {
          "output_type": "stream",
          "name": "stdout",
          "text": [
            "Training Accuracy is 0.9555\n",
            "Testing Accuracy is 0.7466\n"
          ]
        }
      ]
    },
    {
      "cell_type": "markdown",
      "metadata": {
        "id": "OXZZ4U5ejG-U"
      },
      "source": [
        "**Model summarization** includs:\n",
        "\n",
        "\n",
        "*   The layers and their order in the model\n",
        "*   The output shape of each layer\n",
        "*   The number of parameters (weights) in each layer\n",
        "*   The total number of parameters (weights) in the model"
      ]
    },
    {
      "cell_type": "code",
      "metadata": {
        "colab": {
          "base_uri": "https://localhost:8080/"
        },
        "id": "51ljD0ZXFg8P",
        "outputId": "e73230d2-8b2f-44b6-c947-59f1295a03c8"
      },
      "source": [
        "model.summary()"
      ],
      "execution_count": 28,
      "outputs": [
        {
          "output_type": "stream",
          "name": "stdout",
          "text": [
            "Model: \"sequential_5\"\n",
            "_________________________________________________________________\n",
            " Layer (type)                Output Shape              Param #   \n",
            "=================================================================\n",
            " embedding_4 (Embedding)     (None, 20, 100)           2069300   \n",
            "                                                                 \n",
            " spatial_dropout1d_3 (Spatia  (None, 20, 100)          0         \n",
            " lDropout1D)                                                     \n",
            "                                                                 \n",
            " lstm_3 (LSTM)               (None, 100)               80400     \n",
            "                                                                 \n",
            " dense_2 (Dense)             (None, 11)                1111      \n",
            "                                                                 \n",
            "=================================================================\n",
            "Total params: 2,150,811\n",
            "Trainable params: 2,150,811\n",
            "Non-trainable params: 0\n",
            "_________________________________________________________________\n"
          ]
        }
      ]
    },
    {
      "cell_type": "code",
      "metadata": {
        "colab": {
          "base_uri": "https://localhost:8080/"
        },
        "id": "46cd_wfBGVn_",
        "outputId": "7ae6437b-2535-401c-d5e5-91f47927d8ad"
      },
      "source": [
        "# Install plot_keras_history package to print keras training history\n",
        "pip install plot_keras_history"
      ],
      "execution_count": null,
      "outputs": [
        {
          "output_type": "stream",
          "name": "stdout",
          "text": [
            "Collecting plot_keras_history\n",
            "  Downloading plot_keras_history-1.1.30.tar.gz (8.6 kB)\n",
            "Requirement already satisfied: matplotlib in /usr/local/lib/python3.7/dist-packages (from plot_keras_history) (3.2.2)\n",
            "Requirement already satisfied: pandas in /usr/local/lib/python3.7/dist-packages (from plot_keras_history) (1.1.5)\n",
            "Requirement already satisfied: scipy in /usr/local/lib/python3.7/dist-packages (from plot_keras_history) (1.4.1)\n",
            "Collecting sanitize_ml_labels>=1.0.28\n",
            "  Downloading sanitize_ml_labels-1.0.29.tar.gz (7.4 kB)\n",
            "Collecting compress_json\n",
            "  Downloading compress_json-1.0.4.tar.gz (4.7 kB)\n",
            "Requirement already satisfied: numpy>=1.11 in /usr/local/lib/python3.7/dist-packages (from matplotlib->plot_keras_history) (1.19.5)\n",
            "Requirement already satisfied: pyparsing!=2.0.4,!=2.1.2,!=2.1.6,>=2.0.1 in /usr/local/lib/python3.7/dist-packages (from matplotlib->plot_keras_history) (3.0.6)\n",
            "Requirement already satisfied: python-dateutil>=2.1 in /usr/local/lib/python3.7/dist-packages (from matplotlib->plot_keras_history) (2.8.2)\n",
            "Requirement already satisfied: cycler>=0.10 in /usr/local/lib/python3.7/dist-packages (from matplotlib->plot_keras_history) (0.11.0)\n",
            "Requirement already satisfied: kiwisolver>=1.0.1 in /usr/local/lib/python3.7/dist-packages (from matplotlib->plot_keras_history) (1.3.2)\n",
            "Requirement already satisfied: six>=1.5 in /usr/local/lib/python3.7/dist-packages (from python-dateutil>=2.1->matplotlib->plot_keras_history) (1.15.0)\n",
            "Requirement already satisfied: pytz>=2017.2 in /usr/local/lib/python3.7/dist-packages (from pandas->plot_keras_history) (2018.9)\n",
            "Building wheels for collected packages: plot-keras-history, sanitize-ml-labels, compress-json\n",
            "  Building wheel for plot-keras-history (setup.py) ... \u001b[?25l\u001b[?25hdone\n",
            "  Created wheel for plot-keras-history: filename=plot_keras_history-1.1.30-py3-none-any.whl size=8793 sha256=63176c0c31a72c2a3d690aa18419ec370aba873c72a4124c020923dfa2199c65\n",
            "  Stored in directory: /root/.cache/pip/wheels/b0/60/47/8c5aa37c06be5e97879ec467bc2e6a30b315d95f662c63a503\n",
            "  Building wheel for sanitize-ml-labels (setup.py) ... \u001b[?25l\u001b[?25hdone\n",
            "  Created wheel for sanitize-ml-labels: filename=sanitize_ml_labels-1.0.29-py3-none-any.whl size=7877 sha256=dbd33ca0b7bdcd8eb8bd44702014afc36bafd769b17e3eb1de101cd67a682fc7\n",
            "  Stored in directory: /root/.cache/pip/wheels/c2/f5/71/d1c459da10abec864a1979b449edbf37d4a82ab3e38a3625a8\n",
            "  Building wheel for compress-json (setup.py) ... \u001b[?25l\u001b[?25hdone\n",
            "  Created wheel for compress-json: filename=compress_json-1.0.4-py3-none-any.whl size=4585 sha256=3f83756fde43ba3605998244fb5f01cf23620d027513dff7e730120e0167c4ff\n",
            "  Stored in directory: /root/.cache/pip/wheels/1e/ef/1e/5d403c5632b0462471a8d26049d0c138134d0255ec60ce4c14\n",
            "Successfully built plot-keras-history sanitize-ml-labels compress-json\n",
            "Installing collected packages: compress-json, sanitize-ml-labels, plot-keras-history\n",
            "Successfully installed compress-json-1.0.4 plot-keras-history-1.1.30 sanitize-ml-labels-1.0.29\n"
          ]
        }
      ]
    },
    {
      "cell_type": "code",
      "metadata": {
        "colab": {
          "base_uri": "https://localhost:8080/",
          "height": 454
        },
        "id": "ctJ5TYVtGAtf",
        "outputId": "2ca457c2-b06f-4f73-812d-b3d16d6ff18a"
      },
      "source": [
        "# Visualize the performance of the model over time during training\n",
        "from plot_keras_history import plot_history\n",
        "plot_history(history)"
      ],
      "execution_count": null,
      "outputs": [
        {
          "output_type": "execute_result",
          "data": {
            "text/plain": [
              "(<Figure size 720x360 with 2 Axes>,\n",
              " array([<matplotlib.axes._subplots.AxesSubplot object at 0x7f8bac76b950>,\n",
              "        <matplotlib.axes._subplots.AxesSubplot object at 0x7f8bac7bd810>],\n",
              "       dtype=object))"
            ]
          },
          "metadata": {},
          "execution_count": 92
        },
        {
          "output_type": "display_data",
          "data": {
            "image/png": "[encoded data removed]",
            "text/plain": [
              "<Figure size 720x360 with 2 Axes>"
            ]
          },
          "metadata": {
            "needs_background": "light"
          }
        }
      ]
    },
    {
      "cell_type": "markdown",
      "metadata": {
        "id": "oQJBOEt4z80e"
      },
      "source": [
        "#6. Analysis and conclusions\n",
        "Our LSTM neural network model could acheive a training accuracy of around 0.95 and a testing accuracy of 0.75. According to the history graph, there is still space for learning. Methods to improve the testing accuracy include adding more LSTM layers, fine-tunning the number of epochs or batch size, etc. However, adding more epochs may also lead to overfitting the model, resulting in low testing accuracy."
      ]
    }
  ]
}